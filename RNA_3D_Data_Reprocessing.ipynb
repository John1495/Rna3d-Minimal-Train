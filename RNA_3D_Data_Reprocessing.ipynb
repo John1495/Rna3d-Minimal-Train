{
  "nbformat": 4,
  "nbformat_minor": 0,
  "metadata": {
    "colab": {
      "provenance": [],
      "mount_file_id": "149H5Bda5DAt8KrPCouhsO-YgURSU8F92",
      "authorship_tag": "ABX9TyPsAw88xTnFELHL07SZwhnl",
      "include_colab_link": true
    },
    "kernelspec": {
      "name": "python3",
      "display_name": "Python 3"
    },
    "language_info": {
      "name": "python"
    }
  },
  "cells": [
    {
      "cell_type": "markdown",
      "metadata": {
        "id": "view-in-github",
        "colab_type": "text"
      },
      "source": [
        "<a href=\"https://colab.research.google.com/github/John1495/Rna3d-Minimal-Train/blob/main/RNA_3D_Data_Reprocessing.ipynb\" target=\"_parent\"><img src=\"https://colab.research.google.com/assets/colab-badge.svg\" alt=\"Open In Colab\"/></a>"
      ]
    },
    {
      "cell_type": "markdown",
      "source": [
        "## ***RNA 3D Data preprocessing***\n",
        "\n"
      ],
      "metadata": {
        "id": "Bww7UrRnY08U"
      }
    },
    {
      "cell_type": "code",
      "execution_count": null,
      "metadata": {
        "id": "lxtjRsWgSu6R"
      },
      "outputs": [],
      "source": [
        "# first the dependemcies\n",
        "import os\n",
        "import pandas as pd\n",
        "\n",
        "# === SETTINGS ===\n",
        "excel_file = \"data_overview.xlsx\"  # Excel with any metadata\n",
        "train_folder = \"train_sequence\"\n",
        "test_folder = \"test_sequence\"\n",
        "output_folder = \"processed_data\"\n",
        "\n",
        "# Create output folder if not exists\n",
        "os.makedirs(output_folder, exist_ok=True)\n",
        "\n",
        "# === 1. LOAD EXCEL FILE ===\n",
        "if os.path.exists(excel_file):\n",
        "    excel_df = pd.read_excel(excel_file)\n",
        "    print(f\"[INFO] Loaded Excel file with shape: {excel_df.shape}\")\n",
        "else:\n",
        "    excel_df = pd.DataFrame()\n",
        "    print(\"[WARNING] Excel file not found, skipping metadata load.\")\n",
        "\n",
        "# === 2. LOAD TRAINING DATA FROM FOLDER ===\n",
        "train_files = [f for f in os.listdir(train_folder) if f.endswith(\".csv\")]\n",
        "train_dfs = []\n",
        "\n",
        "for file in train_files:\n",
        "    path = os.path.join(train_folder, file)\n",
        "    df = pd.read_csv(path)\n",
        "    train_dfs.append(df)\n",
        "    print(f\"[INFO] Loaded train file: {file} shape: {df.shape}\")\n",
        "\n",
        "if train_dfs:\n",
        "    train_df = pd.concat(train_dfs, ignore_index=True)\n",
        "    print(f\"[INFO] Combined train data shape: {train_df.shape}\")\n",
        "else:\n",
        "    train_df = pd.DataFrame()\n",
        "    print(\"[WARNING] No train files found.\")\n",
        "\n",
        "# === 3. LOAD TEST DATA FROM FOLDER ===\n",
        "test_files = [f for f in os.listdir(test_folder) if f.endswith(\".csv\")]\n",
        "test_dfs = []\n",
        "\n",
        "for file in test_files:\n",
        "    path = os.path.join(test_folder, file)\n",
        "    df = pd.read_csv(path)\n",
        "    test_dfs.append(df)\n",
        "    print(f\"[INFO] Loaded test file: {file} shape: {df.shape}\")\n",
        "\n",
        "if test_dfs:\n",
        "    test_df = pd.concat(test_dfs, ignore_index=True)\n",
        "    print(f\"[INFO] Combined test data shape: {test_df.shape}\")\n",
        "else:\n",
        "    test_df = pd.DataFrame()\n",
        "    print(\"[WARNING] No test files found.\")\n",
        "\n",
        "# === 4. BASIC CLEANING ===\n",
        "def clean_dataframe(df):\n",
        "    if df.empty:\n",
        "        return df\n",
        "    df.columns = [c.strip().lower() for c in df.columns]  # lowercase column names\n",
        "    df = df.drop_duplicates()\n",
        "    df = df.fillna(\"\")  # fill missing values\n",
        "    return df\n",
        "\n",
        "train_df = clean_dataframe(train_df)\n",
        "test_df = clean_dataframe(test_df)\n",
        "\n",
        "# === 5. SAVE PROCESSED FILES ===\n",
        "train_df.to_csv(os.path.join(output_folder, \"train.csv\"), index=False)\n",
        "test_df.to_csv(os.path.join(output_folder, \"test.csv\"), index=False)\n",
        "\n",
        "print(\"[INFO] Saved processed train and test data.\")\n",
        "\n",
        "# Optional: Save metadata if available\n",
        "if not excel_df.empty:\n",
        "    excel_df.to_csv(os.path.join(output_folder, \"metadata.csv\"), index=False)\n",
        "    print(\"[INFO] Saved metadata file.\")\n"
      ]
    },
    {
      "cell_type": "code",
      "source": [
        "import warnings\n",
        "warnings.filterwarnings('ignore')"
      ],
      "metadata": {
        "id": "RjOsWFCvXwDb"
      },
      "execution_count": 1,
      "outputs": []
    }
  ]
}