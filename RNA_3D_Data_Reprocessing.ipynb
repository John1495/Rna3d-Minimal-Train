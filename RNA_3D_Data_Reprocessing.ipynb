{
  "nbformat": 4,
  "nbformat_minor": 0,
  "metadata": {
    "colab": {
      "provenance": [],
      "authorship_tag": "ABX9TyMhlvXmxx2/FA22XjrQQfZI",
      "include_colab_link": true
    },
    "kernelspec": {
      "name": "python3",
      "display_name": "Python 3"
    },
    "language_info": {
      "name": "python"
    }
  },
  "cells": [
    {
      "cell_type": "markdown",
      "metadata": {
        "id": "view-in-github",
        "colab_type": "text"
      },
      "source": [
        "<a href=\"https://colab.research.google.com/github/John1495/Rna3d-Minimal-Train/blob/main/RNA_3D_Data_Reprocessing.ipynb\" target=\"_parent\"><img src=\"https://colab.research.google.com/assets/colab-badge.svg\" alt=\"Open In Colab\"/></a>"
      ]
    },
    {
      "cell_type": "markdown",
      "source": [
        "## ***RNA 3D Data preprocessing***\n",
        "\n"
      ],
      "metadata": {
        "id": "Bww7UrRnY08U"
      }
    },
    {
      "cell_type": "code",
      "source": [
        "!pip install kaggle\n"
      ],
      "metadata": {
        "collapsed": true,
        "colab": {
          "base_uri": "https://localhost:8080/"
        },
        "id": "Msoc2P5hcm-o",
        "outputId": "1ad87fb4-e90f-4312-e43d-471c99dbf0e9"
      },
      "execution_count": 30,
      "outputs": [
        {
          "output_type": "stream",
          "name": "stdout",
          "text": [
            "Requirement already satisfied: kaggle in /usr/local/lib/python3.11/dist-packages (1.7.4.5)\n",
            "Requirement already satisfied: bleach in /usr/local/lib/python3.11/dist-packages (from kaggle) (6.2.0)\n",
            "Requirement already satisfied: certifi>=14.05.14 in /usr/local/lib/python3.11/dist-packages (from kaggle) (2025.8.3)\n",
            "Requirement already satisfied: charset-normalizer in /usr/local/lib/python3.11/dist-packages (from kaggle) (3.4.3)\n",
            "Requirement already satisfied: idna in /usr/local/lib/python3.11/dist-packages (from kaggle) (3.10)\n",
            "Requirement already satisfied: protobuf in /usr/local/lib/python3.11/dist-packages (from kaggle) (5.29.5)\n",
            "Requirement already satisfied: python-dateutil>=2.5.3 in /usr/local/lib/python3.11/dist-packages (from kaggle) (2.9.0.post0)\n",
            "Requirement already satisfied: python-slugify in /usr/local/lib/python3.11/dist-packages (from kaggle) (8.0.4)\n",
            "Requirement already satisfied: requests in /usr/local/lib/python3.11/dist-packages (from kaggle) (2.32.3)\n",
            "Requirement already satisfied: setuptools>=21.0.0 in /usr/local/lib/python3.11/dist-packages (from kaggle) (75.2.0)\n",
            "Requirement already satisfied: six>=1.10 in /usr/local/lib/python3.11/dist-packages (from kaggle) (1.17.0)\n",
            "Requirement already satisfied: text-unidecode in /usr/local/lib/python3.11/dist-packages (from kaggle) (1.3)\n",
            "Requirement already satisfied: tqdm in /usr/local/lib/python3.11/dist-packages (from kaggle) (4.67.1)\n",
            "Requirement already satisfied: urllib3>=1.15.1 in /usr/local/lib/python3.11/dist-packages (from kaggle) (2.5.0)\n",
            "Requirement already satisfied: webencodings in /usr/local/lib/python3.11/dist-packages (from kaggle) (0.5.1)\n"
          ]
        }
      ]
    },
    {
      "cell_type": "code",
      "source": [
        "!rm -f ~/.kaggle/kaggle.json\n",
        "from google.colab import files\n",
        "files.upload()  # Select the correct kaggle.json from your computer\n"
      ],
      "metadata": {
        "colab": {
          "base_uri": "https://localhost:8080/",
          "height": 90
        },
        "id": "5_sQ2aWTabQH",
        "outputId": "d8a371fa-6a8c-40f6-c74d-ca19fd18c64e"
      },
      "execution_count": 31,
      "outputs": [
        {
          "output_type": "display_data",
          "data": {
            "text/plain": [
              "<IPython.core.display.HTML object>"
            ],
            "text/html": [
              "\n",
              "     <input type=\"file\" id=\"files-80342deb-88ff-4b59-a4d9-f2e3c3e1b5cc\" name=\"files[]\" multiple disabled\n",
              "        style=\"border:none\" />\n",
              "     <output id=\"result-80342deb-88ff-4b59-a4d9-f2e3c3e1b5cc\">\n",
              "      Upload widget is only available when the cell has been executed in the\n",
              "      current browser session. Please rerun this cell to enable.\n",
              "      </output>\n",
              "      <script>// Copyright 2017 Google LLC\n",
              "//\n",
              "// Licensed under the Apache License, Version 2.0 (the \"License\");\n",
              "// you may not use this file except in compliance with the License.\n",
              "// You may obtain a copy of the License at\n",
              "//\n",
              "//      http://www.apache.org/licenses/LICENSE-2.0\n",
              "//\n",
              "// Unless required by applicable law or agreed to in writing, software\n",
              "// distributed under the License is distributed on an \"AS IS\" BASIS,\n",
              "// WITHOUT WARRANTIES OR CONDITIONS OF ANY KIND, either express or implied.\n",
              "// See the License for the specific language governing permissions and\n",
              "// limitations under the License.\n",
              "\n",
              "/**\n",
              " * @fileoverview Helpers for google.colab Python module.\n",
              " */\n",
              "(function(scope) {\n",
              "function span(text, styleAttributes = {}) {\n",
              "  const element = document.createElement('span');\n",
              "  element.textContent = text;\n",
              "  for (const key of Object.keys(styleAttributes)) {\n",
              "    element.style[key] = styleAttributes[key];\n",
              "  }\n",
              "  return element;\n",
              "}\n",
              "\n",
              "// Max number of bytes which will be uploaded at a time.\n",
              "const MAX_PAYLOAD_SIZE = 100 * 1024;\n",
              "\n",
              "function _uploadFiles(inputId, outputId) {\n",
              "  const steps = uploadFilesStep(inputId, outputId);\n",
              "  const outputElement = document.getElementById(outputId);\n",
              "  // Cache steps on the outputElement to make it available for the next call\n",
              "  // to uploadFilesContinue from Python.\n",
              "  outputElement.steps = steps;\n",
              "\n",
              "  return _uploadFilesContinue(outputId);\n",
              "}\n",
              "\n",
              "// This is roughly an async generator (not supported in the browser yet),\n",
              "// where there are multiple asynchronous steps and the Python side is going\n",
              "// to poll for completion of each step.\n",
              "// This uses a Promise to block the python side on completion of each step,\n",
              "// then passes the result of the previous step as the input to the next step.\n",
              "function _uploadFilesContinue(outputId) {\n",
              "  const outputElement = document.getElementById(outputId);\n",
              "  const steps = outputElement.steps;\n",
              "\n",
              "  const next = steps.next(outputElement.lastPromiseValue);\n",
              "  return Promise.resolve(next.value.promise).then((value) => {\n",
              "    // Cache the last promise value to make it available to the next\n",
              "    // step of the generator.\n",
              "    outputElement.lastPromiseValue = value;\n",
              "    return next.value.response;\n",
              "  });\n",
              "}\n",
              "\n",
              "/**\n",
              " * Generator function which is called between each async step of the upload\n",
              " * process.\n",
              " * @param {string} inputId Element ID of the input file picker element.\n",
              " * @param {string} outputId Element ID of the output display.\n",
              " * @return {!Iterable<!Object>} Iterable of next steps.\n",
              " */\n",
              "function* uploadFilesStep(inputId, outputId) {\n",
              "  const inputElement = document.getElementById(inputId);\n",
              "  inputElement.disabled = false;\n",
              "\n",
              "  const outputElement = document.getElementById(outputId);\n",
              "  outputElement.innerHTML = '';\n",
              "\n",
              "  const pickedPromise = new Promise((resolve) => {\n",
              "    inputElement.addEventListener('change', (e) => {\n",
              "      resolve(e.target.files);\n",
              "    });\n",
              "  });\n",
              "\n",
              "  const cancel = document.createElement('button');\n",
              "  inputElement.parentElement.appendChild(cancel);\n",
              "  cancel.textContent = 'Cancel upload';\n",
              "  const cancelPromise = new Promise((resolve) => {\n",
              "    cancel.onclick = () => {\n",
              "      resolve(null);\n",
              "    };\n",
              "  });\n",
              "\n",
              "  // Wait for the user to pick the files.\n",
              "  const files = yield {\n",
              "    promise: Promise.race([pickedPromise, cancelPromise]),\n",
              "    response: {\n",
              "      action: 'starting',\n",
              "    }\n",
              "  };\n",
              "\n",
              "  cancel.remove();\n",
              "\n",
              "  // Disable the input element since further picks are not allowed.\n",
              "  inputElement.disabled = true;\n",
              "\n",
              "  if (!files) {\n",
              "    return {\n",
              "      response: {\n",
              "        action: 'complete',\n",
              "      }\n",
              "    };\n",
              "  }\n",
              "\n",
              "  for (const file of files) {\n",
              "    const li = document.createElement('li');\n",
              "    li.append(span(file.name, {fontWeight: 'bold'}));\n",
              "    li.append(span(\n",
              "        `(${file.type || 'n/a'}) - ${file.size} bytes, ` +\n",
              "        `last modified: ${\n",
              "            file.lastModifiedDate ? file.lastModifiedDate.toLocaleDateString() :\n",
              "                                    'n/a'} - `));\n",
              "    const percent = span('0% done');\n",
              "    li.appendChild(percent);\n",
              "\n",
              "    outputElement.appendChild(li);\n",
              "\n",
              "    const fileDataPromise = new Promise((resolve) => {\n",
              "      const reader = new FileReader();\n",
              "      reader.onload = (e) => {\n",
              "        resolve(e.target.result);\n",
              "      };\n",
              "      reader.readAsArrayBuffer(file);\n",
              "    });\n",
              "    // Wait for the data to be ready.\n",
              "    let fileData = yield {\n",
              "      promise: fileDataPromise,\n",
              "      response: {\n",
              "        action: 'continue',\n",
              "      }\n",
              "    };\n",
              "\n",
              "    // Use a chunked sending to avoid message size limits. See b/62115660.\n",
              "    let position = 0;\n",
              "    do {\n",
              "      const length = Math.min(fileData.byteLength - position, MAX_PAYLOAD_SIZE);\n",
              "      const chunk = new Uint8Array(fileData, position, length);\n",
              "      position += length;\n",
              "\n",
              "      const base64 = btoa(String.fromCharCode.apply(null, chunk));\n",
              "      yield {\n",
              "        response: {\n",
              "          action: 'append',\n",
              "          file: file.name,\n",
              "          data: base64,\n",
              "        },\n",
              "      };\n",
              "\n",
              "      let percentDone = fileData.byteLength === 0 ?\n",
              "          100 :\n",
              "          Math.round((position / fileData.byteLength) * 100);\n",
              "      percent.textContent = `${percentDone}% done`;\n",
              "\n",
              "    } while (position < fileData.byteLength);\n",
              "  }\n",
              "\n",
              "  // All done.\n",
              "  yield {\n",
              "    response: {\n",
              "      action: 'complete',\n",
              "    }\n",
              "  };\n",
              "}\n",
              "\n",
              "scope.google = scope.google || {};\n",
              "scope.google.colab = scope.google.colab || {};\n",
              "scope.google.colab._files = {\n",
              "  _uploadFiles,\n",
              "  _uploadFilesContinue,\n",
              "};\n",
              "})(self);\n",
              "</script> "
            ]
          },
          "metadata": {}
        },
        {
          "output_type": "stream",
          "name": "stdout",
          "text": [
            "Saving kaggle (1).json to kaggle (1).json\n"
          ]
        },
        {
          "output_type": "execute_result",
          "data": {
            "text/plain": [
              "{'kaggle (1).json': b'{\"username\":\"nyokmawut\",\"key\":\"61ec17be336812f807cc45e1816b1e59\"}'}"
            ]
          },
          "metadata": {},
          "execution_count": 31
        }
      ]
    },
    {
      "cell_type": "code",
      "source": [
        "!mkdir -p ~/.kaggle\n",
        "!mv \"kaggle (1).json\" ~/.kaggle/kaggle.json\n",
        "!chmod 600 ~/.kaggle/kaggle.json\n"
      ],
      "metadata": {
        "id": "FgPiHjAEawQ_"
      },
      "execution_count": 32,
      "outputs": []
    },
    {
      "cell_type": "code",
      "source": [
        "!kaggle competitions list\n"
      ],
      "metadata": {
        "colab": {
          "base_uri": "https://localhost:8080/"
        },
        "id": "MXPkhtnIbQpL",
        "outputId": "806fc0b8-0bf3-4cd9-8056-54252b57fdcd"
      },
      "execution_count": 33,
      "outputs": [
        {
          "output_type": "stream",
          "name": "stdout",
          "text": [
            "ref                                                                              deadline             category                reward  teamCount  userHasEntered  \n",
            "-------------------------------------------------------------------------------  -------------------  ---------------  -------------  ---------  --------------  \n",
            "https://www.kaggle.com/competitions/arc-prize-2025                               2025-11-03 23:59:00  Featured         1,000,000 Usd        845           False  \n",
            "https://www.kaggle.com/competitions/openai-gpt-oss-20b-red-teaming               2025-08-26 23:59:00  Featured           500,000 Usd          0           False  \n",
            "https://www.kaggle.com/competitions/make-data-count-finding-data-references      2025-09-09 23:59:00  Research           100,000 Usd       1038           False  \n",
            "https://www.kaggle.com/competitions/jigsaw-agile-community-rules                 2025-10-24 06:59:00  Featured           100,000 Usd        854           False  \n",
            "https://www.kaggle.com/competitions/mitsui-commodity-prediction-challenge        2025-10-06 23:59:00  Featured           100,000 Usd        562           False  \n",
            "https://www.kaggle.com/competitions/google-code-golf-2025                        2025-10-30 23:59:00  Research           100,000 Usd        388           False  \n",
            "https://www.kaggle.com/competitions/bigquery-ai-hackathon                        2025-09-22 23:59:00  Featured           100,000 Usd          0           False  \n",
            "https://www.kaggle.com/competitions/map-charting-student-math-misunderstandings  2025-10-15 23:59:00  Featured            55,000 Usd        890           False  \n",
            "https://www.kaggle.com/competitions/cmi-detect-behavior-with-sensor-data         2025-09-02 23:59:00  Featured            50,000 Usd       2473           False  \n",
            "https://www.kaggle.com/competitions/neurips-open-polymer-prediction-2025         2025-09-15 23:59:00  Featured            50,000 Usd       1716           False  \n",
            "https://www.kaggle.com/competitions/ariel-data-challenge-2025                    2025-09-24 23:59:00  Featured            50,000 Usd        498           False  \n",
            "https://www.kaggle.com/competitions/rsna-intracranial-aneurysm-detection         2025-10-14 23:59:00  Featured            50,000 Usd        283           False  \n",
            "https://www.kaggle.com/competitions/playground-series-s5e8                       2025-08-31 23:59:00  Playground                Swag       1875           False  \n",
            "https://www.kaggle.com/competitions/titanic                                      2030-01-01 00:00:00  Getting Started      Knowledge      14143           False  \n",
            "https://www.kaggle.com/competitions/home-data-for-ml-course                      2030-01-01 23:59:00  Getting Started      Knowledge       6108           False  \n",
            "https://www.kaggle.com/competitions/house-prices-advanced-regression-techniques  2030-01-01 00:00:00  Getting Started      Knowledge       4333            True  \n",
            "https://www.kaggle.com/competitions/spaceship-titanic                            2030-01-01 00:00:00  Getting Started      Knowledge       1797           False  \n",
            "https://www.kaggle.com/competitions/digit-recognizer                             2030-01-01 00:00:00  Getting Started      Knowledge       1041           False  \n",
            "https://www.kaggle.com/competitions/nlp-getting-started                          2030-01-01 00:00:00  Getting Started      Knowledge        753           False  \n",
            "https://www.kaggle.com/competitions/store-sales-time-series-forecasting          2030-06-30 23:59:00  Getting Started      Knowledge        617           False  \n"
          ]
        }
      ]
    },
    {
      "cell_type": "code",
      "source": [
        "from google.colab import drive\n",
        "drive.mount('/content/drive')\n"
      ],
      "metadata": {
        "colab": {
          "base_uri": "https://localhost:8080/"
        },
        "id": "v7H7lOyhbfka",
        "outputId": "821686ff-0cd6-49eb-d3d6-8e1cb42cf51f"
      },
      "execution_count": 34,
      "outputs": [
        {
          "output_type": "stream",
          "name": "stdout",
          "text": [
            "Drive already mounted at /content/drive; to attempt to forcibly remount, call drive.mount(\"/content/drive\", force_remount=True).\n"
          ]
        }
      ]
    },
    {
      "cell_type": "code",
      "source": [
        "!kaggle competitions download -c stanford-rna-3d-folding -p /content/drive/MyDrive/kaggle_data --force\n"
      ],
      "metadata": {
        "colab": {
          "base_uri": "https://localhost:8080/"
        },
        "id": "ecHY61FRbrrt",
        "outputId": "9335db37-4933-4adb-c5c8-b54f7db95b76"
      },
      "execution_count": 35,
      "outputs": [
        {
          "output_type": "stream",
          "name": "stdout",
          "text": [
            "^C\n"
          ]
        }
      ]
    },
    {
      "cell_type": "code",
      "source": [
        "!ls -lh /content/drive/MyDrive/kaggle_data\n"
      ],
      "metadata": {
        "colab": {
          "base_uri": "https://localhost:8080/"
        },
        "id": "gUgtcoDzb8aI",
        "outputId": "76f0fe5a-2386-4217-db66-aa085de4bd91"
      },
      "execution_count": 36,
      "outputs": [
        {
          "output_type": "stream",
          "name": "stdout",
          "text": [
            "ls: cannot access '/content/drive/MyDrive/kaggle_data': No such file or directory\n"
          ]
        }
      ]
    },
    {
      "cell_type": "code",
      "execution_count": null,
      "metadata": {
        "id": "lxtjRsWgSu6R"
      },
      "outputs": [],
      "source": [
        "# first the dependemcies\n",
        "import os\n",
        "import pandas as pd\n",
        "\n",
        "# === SETTINGS ===\n",
        "excel_file = \"data_overview.xlsx\"  # Excel with any metadata\n",
        "train_folder = \"train_sequence\"\n",
        "test_folder = \"test_sequence\"\n",
        "output_folder = \"processed_data\"\n",
        "\n",
        "# Create output folder if not exists\n",
        "os.makedirs(output_folder, exist_ok=True)\n",
        "\n",
        "# === 1. LOAD EXCEL FILE ===\n",
        "if os.path.exists(excel_file):\n",
        "    excel_df = pd.read_excel(excel_file)\n",
        "    print(f\"[INFO] Loaded Excel file with shape: {excel_df.shape}\")\n",
        "else:\n",
        "    excel_df = pd.DataFrame()\n",
        "    print(\"[WARNING] Excel file not found, skipping metadata load.\")\n",
        "\n",
        "# === 2. LOAD TRAINING DATA FROM FOLDER ===\n",
        "train_files = [f for f in os.listdir(train_folder) if f.endswith(\".csv\")]\n",
        "train_dfs = []\n",
        "\n",
        "for file in train_files:\n",
        "    path = os.path.join(train_folder, file)\n",
        "    df = pd.read_csv(path)\n",
        "    train_dfs.append(df)\n",
        "    print(f\"[INFO] Loaded train file: {file} shape: {df.shape}\")\n",
        "\n",
        "if train_dfs:\n",
        "    train_df = pd.concat(train_dfs, ignore_index=True)\n",
        "    print(f\"[INFO] Combined train data shape: {train_df.shape}\")\n",
        "else:\n",
        "    train_df = pd.DataFrame()\n",
        "    print(\"[WARNING] No train files found.\")\n",
        "\n",
        "# === 3. LOAD TEST DATA FROM FOLDER ===\n",
        "test_files = [f for f in os.listdir(test_folder) if f.endswith(\".csv\")]\n",
        "test_dfs = []\n",
        "\n",
        "for file in test_files:\n",
        "    path = os.path.join(test_folder, file)\n",
        "    df = pd.read_csv(path)\n",
        "    test_dfs.append(df)\n",
        "    print(f\"[INFO] Loaded test file: {file} shape: {df.shape}\")\n",
        "\n",
        "if test_dfs:\n",
        "    test_df = pd.concat(test_dfs, ignore_index=True)\n",
        "    print(f\"[INFO] Combined test data shape: {test_df.shape}\")\n",
        "else:\n",
        "    test_df = pd.DataFrame()\n",
        "    print(\"[WARNING] No test files found.\")\n",
        "\n",
        "# === 4. BASIC CLEANING ===\n",
        "def clean_dataframe(df):\n",
        "    if df.empty:\n",
        "        return df\n",
        "    df.columns = [c.strip().lower() for c in df.columns]  # lowercase column names\n",
        "    df = df.drop_duplicates()\n",
        "    df = df.fillna(\"\")  # fill missing values\n",
        "    return df\n",
        "\n",
        "train_df = clean_dataframe(train_df)\n",
        "test_df = clean_dataframe(test_df)\n",
        "\n",
        "# === 5. SAVE PROCESSED FILES ===\n",
        "train_df.to_csv(os.path.join(output_folder, \"train.csv\"), index=False)\n",
        "test_df.to_csv(os.path.join(output_folder, \"test.csv\"), index=False)\n",
        "\n",
        "print(\"[INFO] Saved processed train and test data.\")\n",
        "\n",
        "# Optional: Save metadata if available\n",
        "if not excel_df.empty:\n",
        "    excel_df.to_csv(os.path.join(output_folder, \"metadata.csv\"), index=False)\n",
        "    print(\"[INFO] Saved metadata file.\")\n"
      ]
    },
    {
      "cell_type": "code",
      "source": [
        "import warnings\n",
        "warnings.filterwarnings('ignore')"
      ],
      "metadata": {
        "id": "RjOsWFCvXwDb"
      },
      "execution_count": 1,
      "outputs": []
    }
  ]
}